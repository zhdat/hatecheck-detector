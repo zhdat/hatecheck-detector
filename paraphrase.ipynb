{
 "cells": [
  {
   "cell_type": "code",
   "execution_count": null,
   "id": "initial_id",
   "metadata": {
    "collapsed": true
   },
   "outputs": [],
   "source": [
    "import pandas as pd\n",
    "from sklearn.model_selection import train_test_split\n",
    "from parrot import Parrot\n",
    "import warnings\n",
    "from transformers import MarianMTModel, MarianTokenizer\n",
    "from tqdm import tqdm\n",
    "warnings.filterwarnings(\"ignore\")"
   ]
  },
  {
   "cell_type": "code",
   "execution_count": null,
   "id": "7aca174803569d5",
   "metadata": {},
   "outputs": [],
   "source": [
    "file_path = './data/cleaned_combined_dataset.csv'\n",
    "df = pd.read_csv(file_path)\n",
    "\n",
    "print(df.head())\n",
    "\n",
    "train_df, test_df = train_test_split(df, test_size=0.2, random_state=42)\n",
    "\n",
    "print(f\"Ensemble de formation: {train_df.shape}\")\n",
    "print(f\"Ensemble de test: {test_df.shape}\")"
   ]
  },
  {
   "cell_type": "code",
   "execution_count": null,
   "id": "ffbde625b740e91b",
   "metadata": {},
   "outputs": [],
   "source": [
    "parrot = Parrot(model_tag=\"prithivida/parrot_paraphraser_on_T5\", use_gpu=True)"
   ]
  },
  {
   "cell_type": "code",
   "execution_count": null,
   "id": "deb4abf32fbee6d3",
   "metadata": {},
   "outputs": [],
   "source": [
    "model_name_fr_en = 'Helsinki-NLP/opus-mt-fr-en'\n",
    "tokenizer_fr_en = MarianTokenizer.from_pretrained(model_name_fr_en)\n",
    "model_fr_en = MarianMTModel.from_pretrained(model_name_fr_en)\n",
    "\n",
    "model_name_en_fr = 'Helsinki-NLP/opus-mt-en-fr'\n",
    "tokenizer_en_fr = MarianTokenizer.from_pretrained(model_name_en_fr)\n",
    "model_en_fr = MarianMTModel.from_pretrained(model_name_en_fr)"
   ]
  },
  {
   "cell_type": "code",
   "execution_count": null,
   "id": "f19b418581e4e849",
   "metadata": {},
   "outputs": [],
   "source": [
    "def translate_fr_to_en(texts):\n",
    "  translated_texts = []\n",
    "  for text in texts:\n",
    "    batch = tokenizer_fr_en.prepare_seq2seq_batch([text], return_tensors=\"pt\")\n",
    "    generated_ids = model_fr_en.generate(**batch)\n",
    "    translated_text = tokenizer_fr_en.batch_decode(generated_ids, skip_special_tokens=True)[0]\n",
    "    translated_texts.append(translated_text)\n",
    "  return translated_texts\n",
    "\n",
    "def translate_en_to_fr(texts):\n",
    "  translated_texts = []\n",
    "  for text in texts:\n",
    "    batch = tokenizer_en_fr.prepare_seq2seq_batch([text], return_tensors=\"pt\")\n",
    "    generated_ids = model_en_fr.generate(**batch)\n",
    "    translated_text = tokenizer_en_fr.batch_decode(generated_ids, skip_special_tokens=True)[0]\n",
    "    translated_texts.append(translated_text)\n",
    "  return translated_texts"
   ]
  },
  {
   "cell_type": "code",
   "execution_count": null,
   "id": "d4b00d63a6a38349",
   "metadata": {},
   "outputs": [],
   "source": [
    "def paraphrase(text, num_return_sequences=3):\n",
    "  paraphrased_texts = []\n",
    "  para_phrases = parrot.augment(input_phrase=text)\n",
    "  if para_phrases:\n",
    "    paraphrased_texts = [phrase[0] for phrase in para_phrases[:num_return_sequences]]\n",
    "  return paraphrased_texts\n",
    "\n",
    "text_column = 'text'\n",
    "label_column = 'label'"
   ]
  },
  {
   "cell_type": "code",
   "execution_count": null,
   "id": "db3fd06687704138",
   "metadata": {},
   "outputs": [],
   "source": [
    "if not train_df.empty and text_column in train_df.columns and label_column in train_df.columns:\n",
    "  sample_text = train_df[text_column].iloc[0]\n",
    "  sample_label = train_df[label_column].iloc[0]\n",
    "\n",
    "  translated_text = translate_fr_to_en([sample_text])[0]\n",
    "  paraphrased_texts = paraphrase(translated_text)\n",
    "\n",
    "  translated_back_texts = translate_en_to_fr(paraphrased_texts)\n",
    "\n",
    "  augmented_texts = []\n",
    "  augmented_labels = []\n",
    "\n",
    "  for index, row in tqdm(train_df.iterrows(), total=train_df.shape[0], desc=\"Processing\"):\n",
    "    original_text = row[text_column]\n",
    "    original_label = row[label_column]\n",
    "\n",
    "    translated_text = translate_fr_to_en([original_text])[0]\n",
    "    paraphrased_texts = paraphrase(translated_text)\n",
    "\n",
    "    translated_back_texts = translate_en_to_fr(paraphrased_texts)\n",
    "    augmented_texts.append(original_text)\n",
    "    augmented_labels.append(original_label)\n",
    "    for t_text in translated_back_texts:\n",
    "      augmented_texts.append(t_text)\n",
    "      augmented_labels.append(original_label)\n",
    "\n",
    "  augmented_df = pd.DataFrame({\n",
    "    text_column: augmented_texts,\n",
    "    label_column: augmented_labels\n",
    "  })\n",
    "\n",
    "  train_df.to_csv('./data/train_dataset.csv', index=False)\n",
    "  test_df.to_csv('./data/test_dataset.csv', index=False)\n",
    "  augmented_df.to_csv('./data/augmented_train_dataset.csv', index=False)\n",
    "\n",
    "  print(\"Fichiers sauvegardés avec succès.\")\n",
    "else:\n",
    "  print(\"Les colonnes spécifiées ne sont pas présentes dans le DataFrame ou le DataFrame est vide.\")"
   ]
  },
  {
   "cell_type": "code",
   "execution_count": null,
   "id": "5105f8a4a6b22a52",
   "metadata": {},
   "outputs": [],
   "source": []
  }
 ],
 "metadata": {
  "kernelspec": {
   "display_name": "Python 3",
   "language": "python",
   "name": "python3"
  },
  "language_info": {
   "codemirror_mode": {
    "name": "ipython",
    "version": 3
   },
   "file_extension": ".py",
   "mimetype": "text/x-python",
   "name": "python",
   "nbconvert_exporter": "python",
   "pygments_lexer": "ipython3",
   "version": "3.9.19"
  }
 },
 "nbformat": 4,
 "nbformat_minor": 5
}
