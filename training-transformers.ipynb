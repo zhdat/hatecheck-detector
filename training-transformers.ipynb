{
 "cells": [
  {
   "cell_type": "code",
   "execution_count": 2,
   "id": "919f5971581043c0",
   "metadata": {
    "ExecuteTime": {
     "end_time": "2024-07-22T08:06:44.624434Z",
     "start_time": "2024-07-22T08:06:44.582629Z"
    }
   },
   "outputs": [],
   "source": [
    "import pandas as pd\n",
    "from transformers import AutoTokenizer, AutoModelForSequenceClassification, Trainer, TrainingArguments, DataCollatorWithPadding\n",
    "from datasets import Dataset\n",
    "import evaluate\n",
    "import torch\n",
    "from sklearn.model_selection import train_test_split\n",
    "from sklearn.metrics import confusion_matrix, ConfusionMatrixDisplay, classification_report, accuracy_score\n",
    "import matplotlib.pyplot as plt"
   ]
  },
  {
   "cell_type": "code",
   "execution_count": 3,
   "id": "6f66fcbffe9188d4",
   "metadata": {},
   "outputs": [],
   "source": [
    "# Charger les données\n",
    "df = pd.read_csv('./data/cleaned_combined_dataset.csv')\n",
    "\n",
    "# Assurez-vous que les colonnes sont correctement nommées\n",
    "assert 'text' in df.columns, \"La colonne 'text' est manquante dans le DataFrame\"\n",
    "assert 'label' in df.columns, \"La colonne 'label' est manquante dans le DataFrame\"\n",
    "\n",
    "# Convertir les étiquettes en entiers (0 pour non_hateful, 1 pour hateful)\n",
    "df['label'] = df['label'].map({'non_hateful': 0, 'hateful': 1})\n",
    "\n",
    "# Diviser le dataset en ensembles d'entraînement et de validation\n",
    "train_df, val_df = train_test_split(df, test_size=0.2, random_state=42)\n",
    "\n",
    "train_dataset = Dataset.from_pandas(train_df)\n",
    "val_dataset = Dataset.from_pandas(val_df)"
   ]
  },
  {
   "cell_type": "code",
   "execution_count": 4,
   "id": "3c758d92",
   "metadata": {},
   "outputs": [],
   "source": [
    "# Charger le tokenizer et le modèle\n",
    "model_name = \"Poulpidot/distilcamenbert-french-hate-speech\"\n",
    "tokenizer = AutoTokenizer.from_pretrained(model_name)\n",
    "model = AutoModelForSequenceClassification.from_pretrained(model_name)"
   ]
  },
  {
   "cell_type": "code",
   "execution_count": 5,
   "id": "3e303474",
   "metadata": {},
   "outputs": [],
   "source": [
    "#Prétraiter les données\n",
    "def preprocess_function(examples):\n",
    "    if isinstance(examples['text'], list):\n",
    "        examples['text'] = [str(text) for text in examples['text']]\n",
    "    return tokenizer(examples['text'], truncation=True, padding=True)"
   ]
  },
  {
   "cell_type": "code",
   "execution_count": 6,
   "id": "0648ada3",
   "metadata": {},
   "outputs": [
    {
     "data": {
      "application/vnd.jupyter.widget-view+json": {
       "model_id": "d4bb913836e9431fa5110776e43f518b",
       "version_major": 2,
       "version_minor": 0
      },
      "text/plain": [
       "Map:   0%|          | 0/10717 [00:00<?, ? examples/s]"
      ]
     },
     "metadata": {},
     "output_type": "display_data"
    },
    {
     "data": {
      "application/vnd.jupyter.widget-view+json": {
       "model_id": "141f8cc1dd464f5db00824b733198d0b",
       "version_major": 2,
       "version_minor": 0
      },
      "text/plain": [
       "Map:   0%|          | 0/2680 [00:00<?, ? examples/s]"
      ]
     },
     "metadata": {},
     "output_type": "display_data"
    }
   ],
   "source": [
    "tokenized_train_dataset = train_dataset.map(preprocess_function, batched=True)\n",
    "tokenized_val_dataset = val_dataset.map(preprocess_function, batched=True)\n",
    "\n",
    "# Créer un DataCollatorWithPadding pour gérer le padding dynamique\n",
    "data_collator = DataCollatorWithPadding(tokenizer=tokenizer)"
   ]
  },
  {
   "cell_type": "code",
   "execution_count": 7,
   "id": "80d82ca6",
   "metadata": {},
   "outputs": [],
   "source": [
    "# Définir les arguments d'entraînement\n",
    "training_args = TrainingArguments(\n",
    "    output_dir='./results',          # Sortie des résultats\n",
    "    num_train_epochs=3,              # Nombre d'époques\n",
    "    per_device_train_batch_size=16,  # Taille du batch d'entraînement\n",
    "    per_device_eval_batch_size=16,   # Taille du batch d'évaluation\n",
    "    warmup_steps=500,                # Nombre d'étapes de warmup\n",
    "    weight_decay=0.01,               # Facteur de déclin de poids\n",
    "    logging_dir='./logs',            # Répertoire pour les logs\n",
    "    logging_steps=10,\n",
    "    eval_strategy=\"epoch\",      # Évaluer à la fin de chaque époque\n",
    "    use_cpu=True\n",
    ")\n",
    "\n",
    "# Charger la métrique d'évaluation\n",
    "metric = evaluate.load(\"accuracy\")"
   ]
  },
  {
   "cell_type": "code",
   "execution_count": 8,
   "id": "f98d09f0",
   "metadata": {},
   "outputs": [],
   "source": [
    "# Définir la fonction de calcul des métriques\n",
    "def compute_metrics(eval_pred):\n",
    "    logits, labels = eval_pred\n",
    "    logits_tensor = torch.tensor(logits)\n",
    "    predictions = torch.argmax(logits_tensor, dim=-1)\n",
    "    return metric.compute(predictions=predictions, references=labels)"
   ]
  },
  {
   "cell_type": "code",
   "execution_count": 9,
   "id": "0874a485",
   "metadata": {},
   "outputs": [],
   "source": [
    "# Initialiser le Trainer\n",
    "trainer = Trainer(\n",
    "    model=model,                         # Le modèle à entraîner\n",
    "    args=training_args,                  # Arguments d'entraînement\n",
    "    train_dataset=tokenized_train_dataset,     # Le dataset d'entraînement\n",
    "    eval_dataset=tokenized_val_dataset, # Le dataset de validation\n",
    "    data_collator=data_collator,\n",
    "    compute_metrics=compute_metrics       # Fonction de calcul des métriques\n",
    ")"
   ]
  },
  {
   "cell_type": "code",
   "execution_count": 10,
   "id": "4d29e048",
   "metadata": {},
   "outputs": [
    {
     "data": {
      "application/vnd.jupyter.widget-view+json": {
       "model_id": "033acf6b50a5411c9b5d7e0ac4524125",
       "version_major": 2,
       "version_minor": 0
      },
      "text/plain": [
       "  0%|          | 0/2010 [00:00<?, ?it/s]"
      ]
     },
     "metadata": {},
     "output_type": "display_data"
    },
    {
     "name": "stdout",
     "output_type": "stream",
     "text": [
      "{'loss': 0.5696, 'grad_norm': 4.45645809173584, 'learning_rate': 1.0000000000000002e-06, 'epoch': 0.01}\n",
      "{'loss': 0.6303, 'grad_norm': 6.671645641326904, 'learning_rate': 2.0000000000000003e-06, 'epoch': 0.03}\n",
      "{'loss': 0.6185, 'grad_norm': 5.5814595222473145, 'learning_rate': 3e-06, 'epoch': 0.04}\n",
      "{'loss': 0.6089, 'grad_norm': 4.977560043334961, 'learning_rate': 4.000000000000001e-06, 'epoch': 0.06}\n",
      "{'loss': 0.6003, 'grad_norm': 5.896027565002441, 'learning_rate': 5e-06, 'epoch': 0.07}\n",
      "{'loss': 0.6373, 'grad_norm': 4.689947128295898, 'learning_rate': 6e-06, 'epoch': 0.09}\n",
      "{'loss': 0.5625, 'grad_norm': 5.484979629516602, 'learning_rate': 7.000000000000001e-06, 'epoch': 0.1}\n",
      "{'loss': 0.5743, 'grad_norm': 4.163605690002441, 'learning_rate': 8.000000000000001e-06, 'epoch': 0.12}\n",
      "{'loss': 0.6002, 'grad_norm': 4.393767356872559, 'learning_rate': 9e-06, 'epoch': 0.13}\n",
      "{'loss': 0.5586, 'grad_norm': 5.1933794021606445, 'learning_rate': 1e-05, 'epoch': 0.15}\n",
      "{'loss': 0.5636, 'grad_norm': 5.246206283569336, 'learning_rate': 1.1000000000000001e-05, 'epoch': 0.16}\n",
      "{'loss': 0.5715, 'grad_norm': 8.070149421691895, 'learning_rate': 1.2e-05, 'epoch': 0.18}\n",
      "{'loss': 0.5626, 'grad_norm': 5.461028575897217, 'learning_rate': 1.3000000000000001e-05, 'epoch': 0.19}\n",
      "{'loss': 0.6378, 'grad_norm': 5.633269786834717, 'learning_rate': 1.4000000000000001e-05, 'epoch': 0.21}\n",
      "{'loss': 0.5226, 'grad_norm': 6.700281143188477, 'learning_rate': 1.5e-05, 'epoch': 0.22}\n",
      "{'loss': 0.5184, 'grad_norm': 5.9117608070373535, 'learning_rate': 1.6000000000000003e-05, 'epoch': 0.24}\n",
      "{'loss': 0.4876, 'grad_norm': 4.994955539703369, 'learning_rate': 1.7000000000000003e-05, 'epoch': 0.25}\n",
      "{'loss': 0.4596, 'grad_norm': 4.0375590324401855, 'learning_rate': 1.8e-05, 'epoch': 0.27}\n",
      "{'loss': 0.574, 'grad_norm': 8.937631607055664, 'learning_rate': 1.9e-05, 'epoch': 0.28}\n",
      "{'loss': 0.571, 'grad_norm': 10.924277305603027, 'learning_rate': 2e-05, 'epoch': 0.3}\n",
      "{'loss': 0.5292, 'grad_norm': 4.205756664276123, 'learning_rate': 2.1e-05, 'epoch': 0.31}\n",
      "{'loss': 0.5278, 'grad_norm': 5.280092239379883, 'learning_rate': 2.2000000000000003e-05, 'epoch': 0.33}\n",
      "{'loss': 0.5069, 'grad_norm': 3.7458672523498535, 'learning_rate': 2.3000000000000003e-05, 'epoch': 0.34}\n",
      "{'loss': 0.5129, 'grad_norm': 13.503844261169434, 'learning_rate': 2.4e-05, 'epoch': 0.36}\n",
      "{'loss': 0.4945, 'grad_norm': 6.6224894523620605, 'learning_rate': 2.5e-05, 'epoch': 0.37}\n",
      "{'loss': 0.5113, 'grad_norm': 6.712244033813477, 'learning_rate': 2.6000000000000002e-05, 'epoch': 0.39}\n",
      "{'loss': 0.5273, 'grad_norm': 10.100251197814941, 'learning_rate': 2.7000000000000002e-05, 'epoch': 0.4}\n",
      "{'loss': 0.5346, 'grad_norm': 11.45490837097168, 'learning_rate': 2.8000000000000003e-05, 'epoch': 0.42}\n",
      "{'loss': 0.5655, 'grad_norm': 6.5020575523376465, 'learning_rate': 2.9e-05, 'epoch': 0.43}\n",
      "{'loss': 0.5096, 'grad_norm': 7.175455570220947, 'learning_rate': 3e-05, 'epoch': 0.45}\n",
      "{'loss': 0.5519, 'grad_norm': 5.561550617218018, 'learning_rate': 3.1e-05, 'epoch': 0.46}\n",
      "{'loss': 0.521, 'grad_norm': 5.236001491546631, 'learning_rate': 3.2000000000000005e-05, 'epoch': 0.48}\n",
      "{'loss': 0.4547, 'grad_norm': 2.59808611869812, 'learning_rate': 3.3e-05, 'epoch': 0.49}\n",
      "{'loss': 0.4511, 'grad_norm': 5.381640911102295, 'learning_rate': 3.4000000000000007e-05, 'epoch': 0.51}\n",
      "{'loss': 0.4858, 'grad_norm': 6.014470100402832, 'learning_rate': 3.5e-05, 'epoch': 0.52}\n",
      "{'loss': 0.5624, 'grad_norm': 6.1972527503967285, 'learning_rate': 3.6e-05, 'epoch': 0.54}\n",
      "{'loss': 0.5815, 'grad_norm': 5.226337432861328, 'learning_rate': 3.7e-05, 'epoch': 0.55}\n",
      "{'loss': 0.4899, 'grad_norm': 6.382548809051514, 'learning_rate': 3.8e-05, 'epoch': 0.57}\n",
      "{'loss': 0.5313, 'grad_norm': 9.295389175415039, 'learning_rate': 3.9000000000000006e-05, 'epoch': 0.58}\n",
      "{'loss': 0.5737, 'grad_norm': 6.050416469573975, 'learning_rate': 4e-05, 'epoch': 0.6}\n",
      "{'loss': 0.4584, 'grad_norm': 2.970579147338867, 'learning_rate': 4.1e-05, 'epoch': 0.61}\n",
      "{'loss': 0.3577, 'grad_norm': 5.8367109298706055, 'learning_rate': 4.2e-05, 'epoch': 0.63}\n",
      "{'loss': 0.4874, 'grad_norm': 8.212403297424316, 'learning_rate': 4.3e-05, 'epoch': 0.64}\n",
      "{'loss': 0.4952, 'grad_norm': 6.0751800537109375, 'learning_rate': 4.4000000000000006e-05, 'epoch': 0.66}\n",
      "{'loss': 0.5374, 'grad_norm': 5.8166985511779785, 'learning_rate': 4.5e-05, 'epoch': 0.67}\n",
      "{'loss': 0.4499, 'grad_norm': 7.885630130767822, 'learning_rate': 4.600000000000001e-05, 'epoch': 0.69}\n",
      "{'loss': 0.4367, 'grad_norm': 5.585927963256836, 'learning_rate': 4.7e-05, 'epoch': 0.7}\n",
      "{'loss': 0.4817, 'grad_norm': 4.9278740882873535, 'learning_rate': 4.8e-05, 'epoch': 0.72}\n",
      "{'loss': 0.4734, 'grad_norm': 7.119677543640137, 'learning_rate': 4.9e-05, 'epoch': 0.73}\n",
      "{'loss': 0.541, 'grad_norm': 5.2295637130737305, 'learning_rate': 5e-05, 'epoch': 0.75}\n",
      "{'loss': 0.4322, 'grad_norm': 5.670978546142578, 'learning_rate': 4.966887417218543e-05, 'epoch': 0.76}\n",
      "{'loss': 0.6231, 'grad_norm': 7.775925636291504, 'learning_rate': 4.9337748344370865e-05, 'epoch': 0.78}\n",
      "{'loss': 0.5114, 'grad_norm': 6.563419342041016, 'learning_rate': 4.900662251655629e-05, 'epoch': 0.79}\n",
      "{'loss': 0.4712, 'grad_norm': 6.222031593322754, 'learning_rate': 4.867549668874172e-05, 'epoch': 0.81}\n",
      "{'loss': 0.4262, 'grad_norm': 3.3297181129455566, 'learning_rate': 4.8344370860927156e-05, 'epoch': 0.82}\n",
      "{'loss': 0.5404, 'grad_norm': 3.7386903762817383, 'learning_rate': 4.8013245033112584e-05, 'epoch': 0.84}\n",
      "{'loss': 0.4343, 'grad_norm': 5.57858419418335, 'learning_rate': 4.768211920529801e-05, 'epoch': 0.85}\n",
      "{'loss': 0.5109, 'grad_norm': 6.1395649909973145, 'learning_rate': 4.735099337748345e-05, 'epoch': 0.87}\n",
      "{'loss': 0.4715, 'grad_norm': 3.815345525741577, 'learning_rate': 4.7019867549668875e-05, 'epoch': 0.88}\n",
      "{'loss': 0.4925, 'grad_norm': 3.986309766769409, 'learning_rate': 4.668874172185431e-05, 'epoch': 0.9}\n",
      "{'loss': 0.5302, 'grad_norm': 4.0624237060546875, 'learning_rate': 4.635761589403974e-05, 'epoch': 0.91}\n",
      "{'loss': 0.5073, 'grad_norm': 3.592979907989502, 'learning_rate': 4.602649006622517e-05, 'epoch': 0.93}\n",
      "{'loss': 0.3623, 'grad_norm': 5.863088130950928, 'learning_rate': 4.56953642384106e-05, 'epoch': 0.94}\n",
      "{'loss': 0.5647, 'grad_norm': 4.794368743896484, 'learning_rate': 4.536423841059603e-05, 'epoch': 0.96}\n",
      "{'loss': 0.4592, 'grad_norm': 2.8643887042999268, 'learning_rate': 4.5033112582781463e-05, 'epoch': 0.97}\n",
      "{'loss': 0.4395, 'grad_norm': 3.2616474628448486, 'learning_rate': 4.470198675496689e-05, 'epoch': 0.99}\n",
      "{'loss': 0.4111, 'grad_norm': 4.500467300415039, 'learning_rate': 4.437086092715232e-05, 'epoch': 1.0}\n"
     ]
    },
    {
     "data": {
      "application/vnd.jupyter.widget-view+json": {
       "model_id": "f6d1be1a22c94318b7c00db6fca831a0",
       "version_major": 2,
       "version_minor": 0
      },
      "text/plain": [
       "  0%|          | 0/168 [00:00<?, ?it/s]"
      ]
     },
     "metadata": {},
     "output_type": "display_data"
    },
    {
     "name": "stdout",
     "output_type": "stream",
     "text": [
      "{'eval_loss': 0.47057026624679565, 'eval_accuracy': 0.7742537313432836, 'eval_runtime': 39.4663, 'eval_samples_per_second': 67.906, 'eval_steps_per_second': 4.257, 'epoch': 1.0}\n",
      "{'loss': 0.3697, 'grad_norm': 5.038154125213623, 'learning_rate': 4.403973509933775e-05, 'epoch': 1.01}\n",
      "{'loss': 0.3425, 'grad_norm': 9.897286415100098, 'learning_rate': 4.370860927152318e-05, 'epoch': 1.03}\n",
      "{'loss': 0.4111, 'grad_norm': 3.670175790786743, 'learning_rate': 4.337748344370861e-05, 'epoch': 1.04}\n",
      "{'loss': 0.478, 'grad_norm': 5.431910514831543, 'learning_rate': 4.304635761589404e-05, 'epoch': 1.06}\n",
      "{'loss': 0.2817, 'grad_norm': 6.352431297302246, 'learning_rate': 4.271523178807947e-05, 'epoch': 1.07}\n",
      "{'loss': 0.3592, 'grad_norm': 8.20695686340332, 'learning_rate': 4.23841059602649e-05, 'epoch': 1.09}\n",
      "{'loss': 0.4989, 'grad_norm': 5.773820400238037, 'learning_rate': 4.205298013245033e-05, 'epoch': 1.1}\n",
      "{'loss': 0.3921, 'grad_norm': 5.409891128540039, 'learning_rate': 4.1721854304635764e-05, 'epoch': 1.12}\n",
      "{'loss': 0.472, 'grad_norm': 3.4264814853668213, 'learning_rate': 4.139072847682119e-05, 'epoch': 1.13}\n",
      "{'loss': 0.39, 'grad_norm': 5.996376991271973, 'learning_rate': 4.105960264900662e-05, 'epoch': 1.15}\n",
      "{'loss': 0.3817, 'grad_norm': 4.730637073516846, 'learning_rate': 4.0728476821192055e-05, 'epoch': 1.16}\n",
      "{'loss': 0.4002, 'grad_norm': 7.5142822265625, 'learning_rate': 4.039735099337749e-05, 'epoch': 1.18}\n",
      "{'loss': 0.4553, 'grad_norm': 3.943737745285034, 'learning_rate': 4.006622516556292e-05, 'epoch': 1.19}\n",
      "{'loss': 0.3521, 'grad_norm': 3.3896100521087646, 'learning_rate': 3.9735099337748346e-05, 'epoch': 1.21}\n",
      "{'loss': 0.3847, 'grad_norm': 4.133867263793945, 'learning_rate': 3.940397350993378e-05, 'epoch': 1.22}\n",
      "{'loss': 0.3653, 'grad_norm': 3.152139186859131, 'learning_rate': 3.907284768211921e-05, 'epoch': 1.24}\n",
      "{'loss': 0.3052, 'grad_norm': 4.435354232788086, 'learning_rate': 3.8741721854304637e-05, 'epoch': 1.25}\n",
      "{'loss': 0.349, 'grad_norm': 4.961588382720947, 'learning_rate': 3.841059602649007e-05, 'epoch': 1.27}\n",
      "{'loss': 0.3047, 'grad_norm': 3.84702467918396, 'learning_rate': 3.80794701986755e-05, 'epoch': 1.28}\n",
      "{'loss': 0.4015, 'grad_norm': 8.450739860534668, 'learning_rate': 3.774834437086093e-05, 'epoch': 1.3}\n",
      "{'loss': 0.4164, 'grad_norm': 8.717681884765625, 'learning_rate': 3.741721854304636e-05, 'epoch': 1.31}\n",
      "{'loss': 0.4292, 'grad_norm': 6.3467206954956055, 'learning_rate': 3.708609271523179e-05, 'epoch': 1.33}\n",
      "{'loss': 0.4132, 'grad_norm': 5.446545124053955, 'learning_rate': 3.675496688741722e-05, 'epoch': 1.34}\n",
      "{'loss': 0.3082, 'grad_norm': 4.31525182723999, 'learning_rate': 3.6423841059602646e-05, 'epoch': 1.36}\n",
      "{'loss': 0.4245, 'grad_norm': 3.3634045124053955, 'learning_rate': 3.609271523178808e-05, 'epoch': 1.37}\n",
      "{'loss': 0.4369, 'grad_norm': 3.2106029987335205, 'learning_rate': 3.576158940397351e-05, 'epoch': 1.39}\n",
      "{'loss': 0.43, 'grad_norm': 2.965409278869629, 'learning_rate': 3.543046357615894e-05, 'epoch': 1.4}\n",
      "{'loss': 0.3886, 'grad_norm': 7.198555946350098, 'learning_rate': 3.509933774834437e-05, 'epoch': 1.42}\n",
      "{'loss': 0.4468, 'grad_norm': 4.487802505493164, 'learning_rate': 3.47682119205298e-05, 'epoch': 1.43}\n",
      "{'loss': 0.3949, 'grad_norm': 4.558712482452393, 'learning_rate': 3.4437086092715235e-05, 'epoch': 1.45}\n",
      "{'loss': 0.4585, 'grad_norm': 6.61362361907959, 'learning_rate': 3.410596026490066e-05, 'epoch': 1.46}\n",
      "{'loss': 0.4079, 'grad_norm': 8.280373573303223, 'learning_rate': 3.37748344370861e-05, 'epoch': 1.48}\n",
      "{'loss': 0.4012, 'grad_norm': 3.9310121536254883, 'learning_rate': 3.3443708609271526e-05, 'epoch': 1.49}\n",
      "{'loss': 0.3646, 'grad_norm': 5.829748153686523, 'learning_rate': 3.311258278145696e-05, 'epoch': 1.51}\n",
      "{'loss': 0.3768, 'grad_norm': 5.754223346710205, 'learning_rate': 3.278145695364239e-05, 'epoch': 1.52}\n",
      "{'loss': 0.2934, 'grad_norm': 4.470475673675537, 'learning_rate': 3.2450331125827816e-05, 'epoch': 1.54}\n",
      "{'loss': 0.4133, 'grad_norm': 11.220189094543457, 'learning_rate': 3.2119205298013244e-05, 'epoch': 1.55}\n",
      "{'loss': 0.3719, 'grad_norm': 6.513597011566162, 'learning_rate': 3.178807947019868e-05, 'epoch': 1.57}\n",
      "{'loss': 0.3334, 'grad_norm': 6.228628635406494, 'learning_rate': 3.145695364238411e-05, 'epoch': 1.58}\n",
      "{'loss': 0.3615, 'grad_norm': 3.507028579711914, 'learning_rate': 3.1125827814569535e-05, 'epoch': 1.6}\n",
      "{'loss': 0.3483, 'grad_norm': 9.457509994506836, 'learning_rate': 3.079470198675497e-05, 'epoch': 1.61}\n",
      "{'loss': 0.4386, 'grad_norm': 9.88557243347168, 'learning_rate': 3.0463576158940398e-05, 'epoch': 1.63}\n",
      "{'loss': 0.4242, 'grad_norm': 4.7765212059021, 'learning_rate': 3.0132450331125826e-05, 'epoch': 1.64}\n",
      "{'loss': 0.3268, 'grad_norm': 2.578801393508911, 'learning_rate': 2.980132450331126e-05, 'epoch': 1.66}\n",
      "{'loss': 0.4114, 'grad_norm': 5.674482822418213, 'learning_rate': 2.9470198675496692e-05, 'epoch': 1.67}\n",
      "{'loss': 0.3714, 'grad_norm': 4.881318092346191, 'learning_rate': 2.913907284768212e-05, 'epoch': 1.69}\n",
      "{'loss': 0.3766, 'grad_norm': 13.612757682800293, 'learning_rate': 2.880794701986755e-05, 'epoch': 1.7}\n",
      "{'loss': 0.3866, 'grad_norm': 4.845690727233887, 'learning_rate': 2.8476821192052983e-05, 'epoch': 1.72}\n",
      "{'loss': 0.491, 'grad_norm': 6.289763450622559, 'learning_rate': 2.814569536423841e-05, 'epoch': 1.73}\n",
      "{'loss': 0.3942, 'grad_norm': 10.289658546447754, 'learning_rate': 2.781456953642384e-05, 'epoch': 1.75}\n",
      "{'loss': 0.4188, 'grad_norm': 4.6319260597229, 'learning_rate': 2.7483443708609274e-05, 'epoch': 1.76}\n",
      "{'loss': 0.3604, 'grad_norm': 4.137795925140381, 'learning_rate': 2.7152317880794702e-05, 'epoch': 1.78}\n",
      "{'loss': 0.3394, 'grad_norm': 6.512020111083984, 'learning_rate': 2.6821192052980134e-05, 'epoch': 1.79}\n",
      "{'loss': 0.3748, 'grad_norm': 7.895370006561279, 'learning_rate': 2.6490066225165565e-05, 'epoch': 1.81}\n",
      "{'loss': 0.3664, 'grad_norm': 7.2510294914245605, 'learning_rate': 2.6158940397350996e-05, 'epoch': 1.82}\n",
      "{'loss': 0.3517, 'grad_norm': 9.33706283569336, 'learning_rate': 2.5827814569536424e-05, 'epoch': 1.84}\n",
      "{'loss': 0.4342, 'grad_norm': 7.793054580688477, 'learning_rate': 2.549668874172186e-05, 'epoch': 1.85}\n",
      "{'loss': 0.3542, 'grad_norm': 7.154683589935303, 'learning_rate': 2.5165562913907287e-05, 'epoch': 1.87}\n",
      "{'loss': 0.4015, 'grad_norm': 4.895674228668213, 'learning_rate': 2.4834437086092715e-05, 'epoch': 1.88}\n",
      "{'loss': 0.4209, 'grad_norm': 6.639857292175293, 'learning_rate': 2.4503311258278147e-05, 'epoch': 1.9}\n",
      "{'loss': 0.4961, 'grad_norm': 4.934078693389893, 'learning_rate': 2.4172185430463578e-05, 'epoch': 1.91}\n",
      "{'loss': 0.3906, 'grad_norm': 3.106719493865967, 'learning_rate': 2.3841059602649006e-05, 'epoch': 1.93}\n",
      "{'loss': 0.3267, 'grad_norm': 3.3189892768859863, 'learning_rate': 2.3509933774834437e-05, 'epoch': 1.94}\n",
      "{'loss': 0.3966, 'grad_norm': 3.87961745262146, 'learning_rate': 2.317880794701987e-05, 'epoch': 1.96}\n",
      "{'loss': 0.3303, 'grad_norm': 5.544830322265625, 'learning_rate': 2.28476821192053e-05, 'epoch': 1.97}\n",
      "{'loss': 0.3694, 'grad_norm': 3.333399534225464, 'learning_rate': 2.2516556291390732e-05, 'epoch': 1.99}\n",
      "{'loss': 0.3776, 'grad_norm': 4.027339935302734, 'learning_rate': 2.218543046357616e-05, 'epoch': 2.0}\n"
     ]
    },
    {
     "data": {
      "application/vnd.jupyter.widget-view+json": {
       "model_id": "1ea79dc148154a19aaee6b4f92fb79a2",
       "version_major": 2,
       "version_minor": 0
      },
      "text/plain": [
       "  0%|          | 0/168 [00:00<?, ?it/s]"
      ]
     },
     "metadata": {},
     "output_type": "display_data"
    },
    {
     "name": "stdout",
     "output_type": "stream",
     "text": [
      "{'eval_loss': 0.4926498234272003, 'eval_accuracy': 0.7776119402985074, 'eval_runtime': 38.7065, 'eval_samples_per_second': 69.239, 'eval_steps_per_second': 4.34, 'epoch': 2.0}\n",
      "{'loss': 0.2796, 'grad_norm': 5.523646354675293, 'learning_rate': 2.185430463576159e-05, 'epoch': 2.01}\n",
      "{'loss': 0.2423, 'grad_norm': 4.1558098793029785, 'learning_rate': 2.152317880794702e-05, 'epoch': 2.03}\n",
      "{'loss': 0.31, 'grad_norm': 1.6968073844909668, 'learning_rate': 2.119205298013245e-05, 'epoch': 2.04}\n",
      "{'loss': 0.2746, 'grad_norm': 5.409918785095215, 'learning_rate': 2.0860927152317882e-05, 'epoch': 2.06}\n",
      "{'loss': 0.1988, 'grad_norm': 3.407233238220215, 'learning_rate': 2.052980132450331e-05, 'epoch': 2.07}\n",
      "{'loss': 0.3412, 'grad_norm': 17.77273941040039, 'learning_rate': 2.0198675496688745e-05, 'epoch': 2.09}\n",
      "{'loss': 0.2248, 'grad_norm': 8.14523696899414, 'learning_rate': 1.9867549668874173e-05, 'epoch': 2.1}\n",
      "{'loss': 0.2457, 'grad_norm': 3.087540626525879, 'learning_rate': 1.9536423841059604e-05, 'epoch': 2.12}\n",
      "{'loss': 0.2128, 'grad_norm': 1.2007629871368408, 'learning_rate': 1.9205298013245036e-05, 'epoch': 2.13}\n",
      "{'loss': 0.3155, 'grad_norm': 12.173919677734375, 'learning_rate': 1.8874172185430464e-05, 'epoch': 2.15}\n",
      "{'loss': 0.2897, 'grad_norm': 0.8861753344535828, 'learning_rate': 1.8543046357615895e-05, 'epoch': 2.16}\n",
      "{'loss': 0.2715, 'grad_norm': 9.100454330444336, 'learning_rate': 1.8211920529801323e-05, 'epoch': 2.18}\n",
      "{'loss': 0.2427, 'grad_norm': 26.08603286743164, 'learning_rate': 1.7880794701986755e-05, 'epoch': 2.19}\n",
      "{'loss': 0.2943, 'grad_norm': 15.526680946350098, 'learning_rate': 1.7549668874172186e-05, 'epoch': 2.21}\n",
      "{'loss': 0.2896, 'grad_norm': 12.58583927154541, 'learning_rate': 1.7218543046357617e-05, 'epoch': 2.22}\n",
      "{'loss': 0.2341, 'grad_norm': 15.253326416015625, 'learning_rate': 1.688741721854305e-05, 'epoch': 2.24}\n",
      "{'loss': 0.3139, 'grad_norm': 6.6516313552856445, 'learning_rate': 1.655629139072848e-05, 'epoch': 2.25}\n",
      "{'loss': 0.2771, 'grad_norm': 24.27627944946289, 'learning_rate': 1.6225165562913908e-05, 'epoch': 2.27}\n",
      "{'loss': 0.2668, 'grad_norm': 17.95587730407715, 'learning_rate': 1.589403973509934e-05, 'epoch': 2.28}\n",
      "{'loss': 0.3715, 'grad_norm': 7.071093559265137, 'learning_rate': 1.5562913907284768e-05, 'epoch': 2.3}\n",
      "{'loss': 0.2528, 'grad_norm': 6.975130558013916, 'learning_rate': 1.5231788079470199e-05, 'epoch': 2.31}\n",
      "{'loss': 0.2516, 'grad_norm': 8.488992691040039, 'learning_rate': 1.490066225165563e-05, 'epoch': 2.33}\n",
      "{'loss': 0.2557, 'grad_norm': 7.091597080230713, 'learning_rate': 1.456953642384106e-05, 'epoch': 2.34}\n",
      "{'loss': 0.2414, 'grad_norm': 2.7112855911254883, 'learning_rate': 1.4238410596026492e-05, 'epoch': 2.36}\n",
      "{'loss': 0.2566, 'grad_norm': 9.356797218322754, 'learning_rate': 1.390728476821192e-05, 'epoch': 2.37}\n",
      "{'loss': 0.168, 'grad_norm': 5.841019153594971, 'learning_rate': 1.3576158940397351e-05, 'epoch': 2.39}\n",
      "{'loss': 0.2677, 'grad_norm': 10.576475143432617, 'learning_rate': 1.3245033112582782e-05, 'epoch': 2.4}\n",
      "{'loss': 0.3299, 'grad_norm': 8.995259284973145, 'learning_rate': 1.2913907284768212e-05, 'epoch': 2.42}\n",
      "{'loss': 0.2862, 'grad_norm': 23.345067977905273, 'learning_rate': 1.2582781456953644e-05, 'epoch': 2.43}\n",
      "{'loss': 0.298, 'grad_norm': 5.822768688201904, 'learning_rate': 1.2251655629139073e-05, 'epoch': 2.45}\n",
      "{'loss': 0.2544, 'grad_norm': 6.193554401397705, 'learning_rate': 1.1920529801324503e-05, 'epoch': 2.46}\n",
      "{'loss': 0.2495, 'grad_norm': 9.50797176361084, 'learning_rate': 1.1589403973509934e-05, 'epoch': 2.48}\n",
      "{'loss': 0.2972, 'grad_norm': 14.604982376098633, 'learning_rate': 1.1258278145695366e-05, 'epoch': 2.49}\n",
      "{'loss': 0.3046, 'grad_norm': 10.898551940917969, 'learning_rate': 1.0927152317880796e-05, 'epoch': 2.51}\n",
      "{'loss': 0.2902, 'grad_norm': 7.027440071105957, 'learning_rate': 1.0596026490066225e-05, 'epoch': 2.52}\n",
      "{'loss': 0.3234, 'grad_norm': 5.871581077575684, 'learning_rate': 1.0264900662251655e-05, 'epoch': 2.54}\n",
      "{'loss': 0.2455, 'grad_norm': 8.888066291809082, 'learning_rate': 9.933774834437086e-06, 'epoch': 2.55}\n",
      "{'loss': 0.1947, 'grad_norm': 6.330888748168945, 'learning_rate': 9.602649006622518e-06, 'epoch': 2.57}\n",
      "{'loss': 0.2026, 'grad_norm': 3.1086807250976562, 'learning_rate': 9.271523178807948e-06, 'epoch': 2.58}\n",
      "{'loss': 0.3163, 'grad_norm': 9.857173919677734, 'learning_rate': 8.940397350993377e-06, 'epoch': 2.6}\n",
      "{'loss': 0.3281, 'grad_norm': 10.92147159576416, 'learning_rate': 8.609271523178809e-06, 'epoch': 2.61}\n",
      "{'loss': 0.2377, 'grad_norm': 6.427859306335449, 'learning_rate': 8.27814569536424e-06, 'epoch': 2.63}\n",
      "{'loss': 0.2256, 'grad_norm': 2.7550296783447266, 'learning_rate': 7.94701986754967e-06, 'epoch': 2.64}\n",
      "{'loss': 0.1806, 'grad_norm': 6.211392402648926, 'learning_rate': 7.6158940397350995e-06, 'epoch': 2.66}\n",
      "{'loss': 0.2615, 'grad_norm': 8.002132415771484, 'learning_rate': 7.28476821192053e-06, 'epoch': 2.67}\n",
      "{'loss': 0.2616, 'grad_norm': 11.334554672241211, 'learning_rate': 6.95364238410596e-06, 'epoch': 2.69}\n",
      "{'loss': 0.3106, 'grad_norm': 9.57447624206543, 'learning_rate': 6.622516556291391e-06, 'epoch': 2.7}\n",
      "{'loss': 0.2402, 'grad_norm': 13.823918342590332, 'learning_rate': 6.291390728476822e-06, 'epoch': 2.72}\n",
      "{'loss': 0.2599, 'grad_norm': 11.591736793518066, 'learning_rate': 5.9602649006622515e-06, 'epoch': 2.73}\n",
      "{'loss': 0.3463, 'grad_norm': 4.319100856781006, 'learning_rate': 5.629139072847683e-06, 'epoch': 2.75}\n",
      "{'loss': 0.3167, 'grad_norm': 4.191481590270996, 'learning_rate': 5.298013245033113e-06, 'epoch': 2.76}\n",
      "{'loss': 0.1931, 'grad_norm': 6.929930210113525, 'learning_rate': 4.966887417218543e-06, 'epoch': 2.78}\n",
      "{'loss': 0.2009, 'grad_norm': 10.969008445739746, 'learning_rate': 4.635761589403974e-06, 'epoch': 2.79}\n",
      "{'loss': 0.2737, 'grad_norm': 5.825929641723633, 'learning_rate': 4.304635761589404e-06, 'epoch': 2.81}\n",
      "{'loss': 0.3168, 'grad_norm': 10.060688018798828, 'learning_rate': 3.973509933774835e-06, 'epoch': 2.82}\n",
      "{'loss': 0.2689, 'grad_norm': 5.05640983581543, 'learning_rate': 3.642384105960265e-06, 'epoch': 2.84}\n",
      "{'loss': 0.2465, 'grad_norm': 4.943467140197754, 'learning_rate': 3.3112582781456956e-06, 'epoch': 2.85}\n",
      "{'loss': 0.2099, 'grad_norm': 7.981647491455078, 'learning_rate': 2.9801324503311258e-06, 'epoch': 2.87}\n",
      "{'loss': 0.3819, 'grad_norm': 4.373778343200684, 'learning_rate': 2.6490066225165563e-06, 'epoch': 2.88}\n",
      "{'loss': 0.2756, 'grad_norm': 1.8761838674545288, 'learning_rate': 2.317880794701987e-06, 'epoch': 2.9}\n",
      "{'loss': 0.3364, 'grad_norm': 11.771124839782715, 'learning_rate': 1.9867549668874175e-06, 'epoch': 2.91}\n",
      "{'loss': 0.219, 'grad_norm': 2.950004816055298, 'learning_rate': 1.6556291390728478e-06, 'epoch': 2.93}\n",
      "{'loss': 0.2419, 'grad_norm': 5.632646560668945, 'learning_rate': 1.3245033112582782e-06, 'epoch': 2.94}\n",
      "{'loss': 0.262, 'grad_norm': 3.3722872734069824, 'learning_rate': 9.933774834437087e-07, 'epoch': 2.96}\n",
      "{'loss': 0.2381, 'grad_norm': 3.650216579437256, 'learning_rate': 6.622516556291391e-07, 'epoch': 2.97}\n",
      "{'loss': 0.1709, 'grad_norm': 1.330479621887207, 'learning_rate': 3.3112582781456954e-07, 'epoch': 2.99}\n",
      "{'loss': 0.1967, 'grad_norm': 8.919941902160645, 'learning_rate': 0.0, 'epoch': 3.0}\n"
     ]
    },
    {
     "data": {
      "application/vnd.jupyter.widget-view+json": {
       "model_id": "2d8c1924fb164ca497118b4cca7af615",
       "version_major": 2,
       "version_minor": 0
      },
      "text/plain": [
       "  0%|          | 0/168 [00:00<?, ?it/s]"
      ]
     },
     "metadata": {},
     "output_type": "display_data"
    },
    {
     "name": "stdout",
     "output_type": "stream",
     "text": [
      "{'eval_loss': 0.5832852721214294, 'eval_accuracy': 0.780223880597015, 'eval_runtime': 39.2157, 'eval_samples_per_second': 68.34, 'eval_steps_per_second': 4.284, 'epoch': 3.0}\n",
      "{'train_runtime': 2534.728, 'train_samples_per_second': 12.684, 'train_steps_per_second': 0.793, 'train_loss': 0.3909824792425431, 'epoch': 3.0}\n"
     ]
    },
    {
     "data": {
      "application/vnd.jupyter.widget-view+json": {
       "model_id": "794088ba6372452f932dd3a1385972a2",
       "version_major": 2,
       "version_minor": 0
      },
      "text/plain": [
       "  0%|          | 0/168 [00:00<?, ?it/s]"
      ]
     },
     "metadata": {},
     "output_type": "display_data"
    },
    {
     "name": "stdout",
     "output_type": "stream",
     "text": [
      "Evaluation results: {'eval_loss': 0.5832852721214294, 'eval_accuracy': 0.780223880597015, 'eval_runtime': 38.8909, 'eval_samples_per_second': 68.911, 'eval_steps_per_second': 4.32, 'epoch': 3.0}\n"
     ]
    }
   ],
   "source": [
    "# Entraîner le modèle\n",
    "trainer.train()\n",
    "\n",
    "# Évaluer le modèle sur le jeu de validation\n",
    "eval_result = trainer.evaluate(eval_dataset=tokenized_val_dataset)\n",
    "print(f\"Evaluation results: {eval_result}\")"
   ]
  },
  {
   "cell_type": "code",
   "execution_count": 11,
   "id": "4a5e04da",
   "metadata": {},
   "outputs": [
    {
     "data": {
      "application/vnd.jupyter.widget-view+json": {
       "model_id": "b75e213e4fcd41e5a20807a7c6714721",
       "version_major": 2,
       "version_minor": 0
      },
      "text/plain": [
       "  0%|          | 0/168 [00:00<?, ?it/s]"
      ]
     },
     "metadata": {},
     "output_type": "display_data"
    },
    {
     "data": {
      "image/png": "[encoded data removed]",
      "text/plain": [
       "<Figure size 640x480 with 2 Axes>"
      ]
     },
     "metadata": {},
     "output_type": "display_data"
    },
    {
     "name": "stdout",
     "output_type": "stream",
     "text": [
      "Classification Report:\n",
      "               precision    recall  f1-score   support\n",
      "\n",
      "           0       0.77      0.75      0.76      1232\n",
      "           1       0.79      0.81      0.80      1448\n",
      "\n",
      "    accuracy                           0.78      2680\n",
      "   macro avg       0.78      0.78      0.78      2680\n",
      "weighted avg       0.78      0.78      0.78      2680\n",
      "\n",
      "Accuracy Score: 0.780223880597015\n"
     ]
    }
   ],
   "source": [
    "# Obtenir les prédictions\n",
    "predictions = trainer.predict(tokenized_val_dataset)\n",
    "preds = torch.argmax(torch.tensor(predictions.predictions), dim=-1)\n",
    "\n",
    "# Calculer la matrice de confusion\n",
    "cm = confusion_matrix(val_df['label'], preds)\n",
    "\n",
    "# Afficher la matrice de confusion\n",
    "disp = ConfusionMatrixDisplay(confusion_matrix=cm, display_labels=['Non Hateful', 'Hateful'])\n",
    "disp.plot(cmap=plt.cm.Blues)\n",
    "plt.show()\n",
    "\n",
    "# Afficher le rapport de classification\n",
    "print(\"Classification Report:\\n\", classification_report(val_df['label'], preds))\n",
    "print(\"Accuracy Score:\", accuracy_score(val_df['label'], preds))"
   ]
  },
  {
   "cell_type": "code",
   "execution_count": 12,
   "id": "24e9ade2",
   "metadata": {},
   "outputs": [
    {
     "data": {
      "text/plain": [
       "('./models/distilcamenbert-french-hate-speech/tokenizer_config.json',\n",
       " './models/distilcamenbert-french-hate-speech/special_tokens_map.json',\n",
       " './models/distilcamenbert-french-hate-speech/sentencepiece.bpe.model',\n",
       " './models/distilcamenbert-french-hate-speech/added_tokens.json',\n",
       " './models/distilcamenbert-french-hate-speech/tokenizer.json')"
      ]
     },
     "execution_count": 12,
     "metadata": {},
     "output_type": "execute_result"
    }
   ],
   "source": [
    "# Enregistrer le modèle et le tokenizer\n",
    "model.save_pretrained('./models/distilcamenbert-french-hate-speech')\n",
    "tokenizer.save_pretrained('./models/distilcamenbert-french-hate-speech')"
   ]
  }
 ],
 "metadata": {
  "kernelspec": {
   "display_name": "Python 3",
   "language": "python",
   "name": "python3"
  },
  "language_info": {
   "codemirror_mode": {
    "name": "ipython",
    "version": 3
   },
   "file_extension": ".py",
   "mimetype": "text/x-python",
   "name": "python",
   "nbconvert_exporter": "python",
   "pygments_lexer": "ipython3",
   "version": "3.9.19"
  }
 },
 "nbformat": 4,
 "nbformat_minor": 5
}
