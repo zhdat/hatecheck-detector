{
 "cells": [
  {
   "cell_type": "code",
   "execution_count": 8,
   "id": "initial_id",
   "metadata": {
    "ExecuteTime": {
     "end_time": "2024-07-19T07:05:16.677523Z",
     "start_time": "2024-07-19T07:05:16.675930Z"
    },
    "collapsed": true
   },
   "outputs": [],
   "source": [
    "import pandas as pd\n",
    "import re\n",
    "import string\n",
    "from unidecode import unidecode"
   ]
  },
  {
   "cell_type": "code",
   "execution_count": 9,
   "id": "d6e691b685718ab",
   "metadata": {
    "ExecuteTime": {
     "end_time": "2024-07-19T09:08:53.153319Z",
     "start_time": "2024-07-19T09:08:53.146023Z"
    }
   },
   "outputs": [],
   "source": [
    "def clean_text(text):\n",
    "  # Remove links\n",
    "  text = re.sub(r'http\\S+|www\\S+|https\\S+', '', text, flags=re.MULTILINE)\n",
    "\n",
    "  # Remove mentions (@)\n",
    "  text = re.sub(r'@\\w+', '', text)\n",
    "\n",
    "  # Remove hashtags\n",
    "  text = re.sub(r'#\\w+', '', text)\n",
    "\n",
    "  # Remove extra spaces\n",
    "  text = re.sub(r'\\s+', ' ', text).strip()\n",
    "\n",
    "  # Transliterate accented characters\n",
    "  text = unidecode(text)\n",
    "\n",
    "  # Remove special characters\n",
    "  text = re.sub(r'[^A-Za-z0-9\\s]+', '', text)\n",
    "\n",
    "  # Put in lowercase\n",
    "  text = text.lower()\n",
    "\n",
    "  return text"
   ]
  },
  {
   "cell_type": "code",
   "execution_count": 12,
   "id": "a239db251e74ce0c",
   "metadata": {
    "ExecuteTime": {
     "end_time": "2024-07-19T09:08:53.770654Z",
     "start_time": "2024-07-19T09:08:53.710489Z"
    }
   },
   "outputs": [
    {
     "name": "stdout",
     "output_type": "stream",
     "text": [
      "Index(['label', 'text', 'target_type', 'id'], dtype='object')\n",
      "Texte nettoyé et sauvegardé avec succès.\n",
      "         label                                               text target_type  \\\n",
      "0  non_hateful         pour une fois que je suis daccord avec mlp   no_target   \n",
      "1  non_hateful                 avaientils les moyens de le faire    no_target   \n",
      "2  non_hateful                    c est bien t es bien lobotomise   no_target   \n",
      "3  non_hateful  me souviens juste de celle de momo et ming pcq...   no_target   \n",
      "4  non_hateful  medine est un excellent rappeur et tres intell...   no_target   \n",
      "\n",
      "    id  \n",
      "0  554  \n",
      "1  555  \n",
      "2  556  \n",
      "3  557  \n",
      "4  558  \n"
     ]
    }
   ],
   "source": [
    "file_path = './data/combined_dataset_2.csv'\n",
    "df = pd.read_csv(file_path)\n",
    "\n",
    "print(df.columns)\n",
    "\n",
    "text_column = 'text'\n",
    "\n",
    "df[text_column] = df[text_column].apply(clean_text)\n",
    "\n",
    "cleaned_file_path = './data/cleaned_combined_dataset_2.csv'\n",
    "df.to_csv(cleaned_file_path, index=False)\n",
    "\n",
    "print(\"Texte nettoyé et sauvegardé avec succès.\")\n",
    "print(df.head())"
   ]
  },
  {
   "cell_type": "code",
   "execution_count": null,
   "id": "1c4f94beb807a1d5",
   "metadata": {},
   "outputs": [],
   "source": []
  }
 ],
 "metadata": {
  "kernelspec": {
   "display_name": "Python 3",
   "language": "python",
   "name": "python3"
  },
  "language_info": {
   "codemirror_mode": {
    "name": "ipython",
    "version": 3
   },
   "file_extension": ".py",
   "mimetype": "text/x-python",
   "name": "python",
   "nbconvert_exporter": "python",
   "pygments_lexer": "ipython3",
   "version": "3.9.19"
  }
 },
 "nbformat": 4,
 "nbformat_minor": 5
}
